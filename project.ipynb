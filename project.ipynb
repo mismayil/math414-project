{
 "cells": [
  {
   "cell_type": "code",
   "execution_count": 1,
   "metadata": {},
   "outputs": [],
   "source": [
    "import pickle\n",
    "\n",
    "train_size=500\n",
    "\n",
    "k_a_model = pickle.load(open(f\"data/ph/q4/ph_k_a_model_[size={train_size}].pkl\", \"rb\"))\n",
    "k_e_model = pickle.load(open(f\"data/ph/q4/ph_k_e_model_[size={train_size}].pkl\", \"rb\"))\n",
    "cl_model = pickle.load(open(f\"data/ph/q4/ph_cl_model_[size={train_size}].pkl\", \"rb\"))\n",
    "sigma_model = pickle.load(open(f\"data/ph/q4/ph_sigma_model_[size={train_size}].pkl\", \"rb\"))"
   ]
  },
  {
   "cell_type": "code",
   "execution_count": 2,
   "metadata": {},
   "outputs": [
    {
     "data": {
      "text/html": [
       "<table class=\"simpletable\">\n",
       "<caption>OLS Regression Results</caption>\n",
       "<tr>\n",
       "  <th>Dep. Variable:</th>           <td>K_a</td>       <th>  R-squared:         </th> <td>   0.458</td>\n",
       "</tr>\n",
       "<tr>\n",
       "  <th>Model:</th>                   <td>OLS</td>       <th>  Adj. R-squared:    </th> <td>   0.448</td>\n",
       "</tr>\n",
       "<tr>\n",
       "  <th>Method:</th>             <td>Least Squares</td>  <th>  F-statistic:       </th> <td>   45.97</td>\n",
       "</tr>\n",
       "<tr>\n",
       "  <th>Date:</th>             <td>Wed, 27 Dec 2023</td> <th>  Prob (F-statistic):</th> <td>1.01e-59</td>\n",
       "</tr>\n",
       "<tr>\n",
       "  <th>Time:</th>                 <td>22:44:11</td>     <th>  Log-Likelihood:    </th> <td> -199.97</td>\n",
       "</tr>\n",
       "<tr>\n",
       "  <th>No. Observations:</th>      <td>   500</td>      <th>  AIC:               </th> <td>   419.9</td>\n",
       "</tr>\n",
       "<tr>\n",
       "  <th>Df Residuals:</th>          <td>   490</td>      <th>  BIC:               </th> <td>   462.1</td>\n",
       "</tr>\n",
       "<tr>\n",
       "  <th>Df Model:</th>              <td>     9</td>      <th>                     </th>     <td> </td>   \n",
       "</tr>\n",
       "<tr>\n",
       "  <th>Covariance Type:</th>      <td>nonrobust</td>    <th>                     </th>     <td> </td>   \n",
       "</tr>\n",
       "</table>\n",
       "<table class=\"simpletable\">\n",
       "<tr>\n",
       "       <td></td>         <th>coef</th>     <th>std err</th>      <th>t</th>      <th>P>|t|</th>  <th>[0.025</th>    <th>0.975]</th>  \n",
       "</tr>\n",
       "<tr>\n",
       "  <th>const</th>      <td>    1.2382</td> <td>    0.026</td> <td>   48.077</td> <td> 0.000</td> <td>    1.188</td> <td>    1.289</td>\n",
       "</tr>\n",
       "<tr>\n",
       "  <th>x_[t=0.25]</th> <td>    0.1458</td> <td>    0.097</td> <td>    1.500</td> <td> 0.134</td> <td>   -0.045</td> <td>    0.337</td>\n",
       "</tr>\n",
       "<tr>\n",
       "  <th>x_[t=0.5]</th>  <td>    0.2362</td> <td>    0.104</td> <td>    2.281</td> <td> 0.023</td> <td>    0.033</td> <td>    0.440</td>\n",
       "</tr>\n",
       "<tr>\n",
       "  <th>x_[t=1]</th>    <td>   -0.0203</td> <td>    0.069</td> <td>   -0.292</td> <td> 0.770</td> <td>   -0.157</td> <td>    0.116</td>\n",
       "</tr>\n",
       "<tr>\n",
       "  <th>x_[t=2]</th>    <td>   -0.1584</td> <td>    0.051</td> <td>   -3.096</td> <td> 0.002</td> <td>   -0.259</td> <td>   -0.058</td>\n",
       "</tr>\n",
       "<tr>\n",
       "  <th>x_[t=3.5]</th>  <td>   -0.1065</td> <td>    0.046</td> <td>   -2.317</td> <td> 0.021</td> <td>   -0.197</td> <td>   -0.016</td>\n",
       "</tr>\n",
       "<tr>\n",
       "  <th>x_[t=5]</th>    <td>    0.0438</td> <td>    0.043</td> <td>    1.030</td> <td> 0.303</td> <td>   -0.040</td> <td>    0.127</td>\n",
       "</tr>\n",
       "<tr>\n",
       "  <th>x_[t=7]</th>    <td>    0.0764</td> <td>    0.042</td> <td>    1.831</td> <td> 0.068</td> <td>   -0.006</td> <td>    0.158</td>\n",
       "</tr>\n",
       "<tr>\n",
       "  <th>x_[t=9]</th>    <td>    0.0068</td> <td>    0.038</td> <td>    0.177</td> <td> 0.860</td> <td>   -0.068</td> <td>    0.082</td>\n",
       "</tr>\n",
       "<tr>\n",
       "  <th>x_[t=12]</th>   <td>   -0.0081</td> <td>    0.027</td> <td>   -0.302</td> <td> 0.762</td> <td>   -0.060</td> <td>    0.044</td>\n",
       "</tr>\n",
       "</table>\n",
       "<table class=\"simpletable\">\n",
       "<tr>\n",
       "  <th>Omnibus:</th>       <td>42.034</td> <th>  Durbin-Watson:     </th> <td>   1.919</td>\n",
       "</tr>\n",
       "<tr>\n",
       "  <th>Prob(Omnibus):</th> <td> 0.000</td> <th>  Jarque-Bera (JB):  </th> <td> 100.855</td>\n",
       "</tr>\n",
       "<tr>\n",
       "  <th>Skew:</th>          <td> 0.438</td> <th>  Prob(JB):          </th> <td>1.26e-22</td>\n",
       "</tr>\n",
       "<tr>\n",
       "  <th>Kurtosis:</th>      <td> 5.018</td> <th>  Cond. No.          </th> <td>    157.</td>\n",
       "</tr>\n",
       "</table><br/><br/>Notes:<br/>[1] Standard Errors assume that the covariance matrix of the errors is correctly specified."
      ],
      "text/latex": [
       "\\begin{center}\n",
       "\\begin{tabular}{lclc}\n",
       "\\toprule\n",
       "\\textbf{Dep. Variable:}    &       K\\_a       & \\textbf{  R-squared:         } &     0.458   \\\\\n",
       "\\textbf{Model:}            &       OLS        & \\textbf{  Adj. R-squared:    } &     0.448   \\\\\n",
       "\\textbf{Method:}           &  Least Squares   & \\textbf{  F-statistic:       } &     45.97   \\\\\n",
       "\\textbf{Date:}             & Wed, 27 Dec 2023 & \\textbf{  Prob (F-statistic):} &  1.01e-59   \\\\\n",
       "\\textbf{Time:}             &     22:44:11     & \\textbf{  Log-Likelihood:    } &   -199.97   \\\\\n",
       "\\textbf{No. Observations:} &         500      & \\textbf{  AIC:               } &     419.9   \\\\\n",
       "\\textbf{Df Residuals:}     &         490      & \\textbf{  BIC:               } &     462.1   \\\\\n",
       "\\textbf{Df Model:}         &           9      & \\textbf{                     } &             \\\\\n",
       "\\textbf{Covariance Type:}  &    nonrobust     & \\textbf{                     } &             \\\\\n",
       "\\bottomrule\n",
       "\\end{tabular}\n",
       "\\begin{tabular}{lcccccc}\n",
       "                     & \\textbf{coef} & \\textbf{std err} & \\textbf{t} & \\textbf{P$> |$t$|$} & \\textbf{[0.025} & \\textbf{0.975]}  \\\\\n",
       "\\midrule\n",
       "\\textbf{const}       &       1.2382  &        0.026     &    48.077  &         0.000        &        1.188    &        1.289     \\\\\n",
       "\\textbf{x\\_[t=0.25]} &       0.1458  &        0.097     &     1.500  &         0.134        &       -0.045    &        0.337     \\\\\n",
       "\\textbf{x\\_[t=0.5]}  &       0.2362  &        0.104     &     2.281  &         0.023        &        0.033    &        0.440     \\\\\n",
       "\\textbf{x\\_[t=1]}    &      -0.0203  &        0.069     &    -0.292  &         0.770        &       -0.157    &        0.116     \\\\\n",
       "\\textbf{x\\_[t=2]}    &      -0.1584  &        0.051     &    -3.096  &         0.002        &       -0.259    &       -0.058     \\\\\n",
       "\\textbf{x\\_[t=3.5]}  &      -0.1065  &        0.046     &    -2.317  &         0.021        &       -0.197    &       -0.016     \\\\\n",
       "\\textbf{x\\_[t=5]}    &       0.0438  &        0.043     &     1.030  &         0.303        &       -0.040    &        0.127     \\\\\n",
       "\\textbf{x\\_[t=7]}    &       0.0764  &        0.042     &     1.831  &         0.068        &       -0.006    &        0.158     \\\\\n",
       "\\textbf{x\\_[t=9]}    &       0.0068  &        0.038     &     0.177  &         0.860        &       -0.068    &        0.082     \\\\\n",
       "\\textbf{x\\_[t=12]}   &      -0.0081  &        0.027     &    -0.302  &         0.762        &       -0.060    &        0.044     \\\\\n",
       "\\bottomrule\n",
       "\\end{tabular}\n",
       "\\begin{tabular}{lclc}\n",
       "\\textbf{Omnibus:}       & 42.034 & \\textbf{  Durbin-Watson:     } &    1.919  \\\\\n",
       "\\textbf{Prob(Omnibus):} &  0.000 & \\textbf{  Jarque-Bera (JB):  } &  100.855  \\\\\n",
       "\\textbf{Skew:}          &  0.438 & \\textbf{  Prob(JB):          } & 1.26e-22  \\\\\n",
       "\\textbf{Kurtosis:}      &  5.018 & \\textbf{  Cond. No.          } &     157.  \\\\\n",
       "\\bottomrule\n",
       "\\end{tabular}\n",
       "%\\caption{OLS Regression Results}\n",
       "\\end{center}\n",
       "\n",
       "Notes: \\newline\n",
       " [1] Standard Errors assume that the covariance matrix of the errors is correctly specified."
      ],
      "text/plain": [
       "<class 'statsmodels.iolib.summary.Summary'>\n",
       "\"\"\"\n",
       "                            OLS Regression Results                            \n",
       "==============================================================================\n",
       "Dep. Variable:                    K_a   R-squared:                       0.458\n",
       "Model:                            OLS   Adj. R-squared:                  0.448\n",
       "Method:                 Least Squares   F-statistic:                     45.97\n",
       "Date:                Wed, 27 Dec 2023   Prob (F-statistic):           1.01e-59\n",
       "Time:                        22:44:11   Log-Likelihood:                -199.97\n",
       "No. Observations:                 500   AIC:                             419.9\n",
       "Df Residuals:                     490   BIC:                             462.1\n",
       "Df Model:                           9                                         \n",
       "Covariance Type:            nonrobust                                         \n",
       "==============================================================================\n",
       "                 coef    std err          t      P>|t|      [0.025      0.975]\n",
       "------------------------------------------------------------------------------\n",
       "const          1.2382      0.026     48.077      0.000       1.188       1.289\n",
       "x_[t=0.25]     0.1458      0.097      1.500      0.134      -0.045       0.337\n",
       "x_[t=0.5]      0.2362      0.104      2.281      0.023       0.033       0.440\n",
       "x_[t=1]       -0.0203      0.069     -0.292      0.770      -0.157       0.116\n",
       "x_[t=2]       -0.1584      0.051     -3.096      0.002      -0.259      -0.058\n",
       "x_[t=3.5]     -0.1065      0.046     -2.317      0.021      -0.197      -0.016\n",
       "x_[t=5]        0.0438      0.043      1.030      0.303      -0.040       0.127\n",
       "x_[t=7]        0.0764      0.042      1.831      0.068      -0.006       0.158\n",
       "x_[t=9]        0.0068      0.038      0.177      0.860      -0.068       0.082\n",
       "x_[t=12]      -0.0081      0.027     -0.302      0.762      -0.060       0.044\n",
       "==============================================================================\n",
       "Omnibus:                       42.034   Durbin-Watson:                   1.919\n",
       "Prob(Omnibus):                  0.000   Jarque-Bera (JB):              100.855\n",
       "Skew:                           0.438   Prob(JB):                     1.26e-22\n",
       "Kurtosis:                       5.018   Cond. No.                         157.\n",
       "==============================================================================\n",
       "\n",
       "Notes:\n",
       "[1] Standard Errors assume that the covariance matrix of the errors is correctly specified.\n",
       "\"\"\""
      ]
     },
     "execution_count": 2,
     "metadata": {},
     "output_type": "execute_result"
    }
   ],
   "source": [
    "k_a_model.summary()"
   ]
  },
  {
   "cell_type": "code",
   "execution_count": 3,
   "metadata": {},
   "outputs": [
    {
     "data": {
      "text/plain": [
       "const         1.238178\n",
       "x_[t=0.25]    0.145794\n",
       "x_[t=0.5]     0.236249\n",
       "x_[t=1]      -0.020287\n",
       "x_[t=2]      -0.158406\n",
       "x_[t=3.5]    -0.106451\n",
       "x_[t=5]       0.043843\n",
       "x_[t=7]       0.076378\n",
       "x_[t=9]       0.006751\n",
       "x_[t=12]     -0.008065\n",
       "dtype: float64"
      ]
     },
     "execution_count": 3,
     "metadata": {},
     "output_type": "execute_result"
    }
   ],
   "source": [
    "k_a_model.params"
   ]
  },
  {
   "cell_type": "code",
   "execution_count": 5,
   "metadata": {},
   "outputs": [
    {
     "data": {
      "text/plain": [
       "(-2.619540393250468, 0.06720551273974976)"
      ]
     },
     "execution_count": 5,
     "metadata": {},
     "output_type": "execute_result"
    },
    {
     "data": {
      "image/png": "[encoded data removed]",
      "text/plain": [
       "<Figure size 640x480 with 1 Axes>"
      ]
     },
     "metadata": {},
     "output_type": "display_data"
    }
   ],
   "source": [
    "import scipy.stats as stats\n",
    "import matplotlib.pyplot as plt\n",
    "import numpy as np\n",
    "\n",
    "d1 = stats.lognorm(s=0.6, scale=np.exp(-2.7))\n",
    "d2 = stats.norm(loc=-2.7, scale=0.6)\n",
    "\n",
    "x = np.linspace(-5, 5, 100)\n",
    "plt.plot(x, d1.pdf(x))\n",
    "plt.plot(x, np.exp(d2.pdf(x)))\n",
    "d1.mean(), np.exp(d2.mean())"
   ]
  }
 ],
 "metadata": {
  "kernelspec": {
   "display_name": "ssproject",
   "language": "python",
   "name": "python3"
  },
  "language_info": {
   "codemirror_mode": {
    "name": "ipython",
    "version": 3
   },
   "file_extension": ".py",
   "mimetype": "text/x-python",
   "name": "python",
   "nbconvert_exporter": "python",
   "pygments_lexer": "ipython3",
   "version": "3.10.8"
  }
 },
 "nbformat": 4,
 "nbformat_minor": 2
}
